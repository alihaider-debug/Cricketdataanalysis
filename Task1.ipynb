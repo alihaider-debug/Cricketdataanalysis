{
  "nbformat": 4,
  "nbformat_minor": 0,
  "metadata": {
    "colab": {
      "provenance": []
    },
    "kernelspec": {
      "name": "python3",
      "display_name": "Python 3"
    },
    "language_info": {
      "name": "python"
    }
  },
  "cells": [
    {
      "cell_type": "markdown",
      "source": [
        "[![Open In Colab](https://colab.research.google.com/assets/colab-badge.svg)](https://colab.research.google.com/github/alihaider-debug/Cricketdataanalysis/blob/main/Task1.ipynb)"
      ],
      "metadata": {
        "id": "s0HJuMsY0Hzb"
      }
    },
    {
      "cell_type": "code",
      "source": [
        "import pandas as pd"
      ],
      "metadata": {
        "id": "xugapPFO1h_t"
      },
      "execution_count": 2,
      "outputs": []
    },
    {
      "cell_type": "code",
      "execution_count": 4,
      "metadata": {
        "id": "jFUrREDlFbY5",
        "colab": {
          "base_uri": "https://localhost:8080/"
        },
        "outputId": "66d4f9ca-656d-4235-dcc4-9ea413d61d09"
      },
      "outputs": [
        {
          "output_type": "stream",
          "name": "stderr",
          "text": [
            "<ipython-input-4-9226430c1130>:3: DtypeWarning: Columns (1) have mixed types. Specify dtype option on import or set low_memory=False.\n",
            "  df = pd.read_csv(github_url)\n"
          ]
        }
      ],
      "source": [
        "github_url = \"https://github.com/alihaider-debug/Cricketdataanalysis/raw/main/ODI_Match_Data.csv\"\n",
        "df = pd.read_csv(github_url)"
      ]
    },
    {
      "cell_type": "markdown",
      "source": [
        "**1. Domain of the Dataset**\n",
        "\n",
        "Domain: Sports (Cricket - ODI Matches)"
      ],
      "metadata": {
        "id": "UJ5Rujz_SIYG"
      }
    },
    {
      "cell_type": "markdown",
      "source": [
        "**2. Target Variable**\n",
        "\n",
        "Potential target variables based on the columns:\n",
        "\n",
        "For Regression: runs_off_bat (predicting runs scored)\n",
        "\n",
        "For Classification: wicket_type (predicting type of dismissal)"
      ],
      "metadata": {
        "id": "4lH6-AvrSXLq"
      }
    },
    {
      "cell_type": "markdown",
      "source": [
        "**3. Number of Features and Records**\n",
        "\n",
        "Number of Features: 23 columns (features)\n",
        "\n",
        "Number of Records: 1 million"
      ],
      "metadata": {
        "id": "nP2esuSfSsmb"
      }
    },
    {
      "cell_type": "markdown",
      "source": [
        "**4. Type of Problem**\n",
        "\n",
        "Type: Depends on your chosen target:\n",
        "\n",
        "Predicting runs (runs_off_bat): Regression\n",
        "\n",
        "Predicting dismissals (wicket_type): Classification"
      ],
      "metadata": {
        "id": "rxkkWFGHS-XO"
      }
    }
  ]
}