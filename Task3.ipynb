{
  "nbformat": 4,
  "nbformat_minor": 0,
  "metadata": {
    "colab": {
      "provenance": []
    },
    "kernelspec": {
      "name": "python3",
      "display_name": "Python 3"
    },
    "language_info": {
      "name": "python"
    }
  },
  "cells": [
    {
      "cell_type": "markdown",
      "source": [
        "[![Open In Colab](https://colab.research.google.com/assets/colab-badge.svg)](https://colab.research.google.com/github/alihaider-debug/Cricketdataanalysis/blob/main/Task3.ipynb)"
      ],
      "metadata": {
        "id": "h3lVI9vKxWns"
      }
    },
    {
      "cell_type": "code",
      "execution_count": 3,
      "metadata": {
        "id": "gvG67LVOpdn9"
      },
      "outputs": [],
      "source": [
        "import pandas as pd\n",
        "import pandas as pd\n",
        "import numpy as np\n",
        "from sklearn.model_selection import train_test_split\n",
        "from sklearn.preprocessing import StandardScaler, OneHotEncoder, LabelEncoder  # Import LabelEncoder\n",
        "from sklearn.impute import SimpleImputer\n",
        "from sklearn.compose import ColumnTransformer\n",
        "from sklearn.pipeline import Pipeline"
      ]
    },
    {
      "cell_type": "code",
      "source": [
        "github_url = \"https://github.com/alihaider-debug/Cricketdataanalysis/raw/main/ODI_Match_Data.csv\"\n",
        "df = pd.read_csv(github_url)"
      ],
      "metadata": {
        "colab": {
          "base_uri": "https://localhost:8080/"
        },
        "id": "m2l7XfFVppxa",
        "outputId": "c409dcc3-72fd-4ae2-8de1-c5ae435783f5"
      },
      "execution_count": 5,
      "outputs": [
        {
          "output_type": "stream",
          "name": "stderr",
          "text": [
            "<ipython-input-5-c36b27620736>:2: DtypeWarning: Columns (1) have mixed types. Specify dtype option on import or set low_memory=False.\n",
            "  df = pd.read_csv(github_url)\n"
          ]
        }
      ]
    },
    {
      "cell_type": "markdown",
      "source": [
        "**1. Handle missing values**"
      ],
      "metadata": {
        "id": "bY5pked7woj2"
      }
    },
    {
      "cell_type": "code",
      "source": [
        "# Identify Columns by Type\n",
        "numeric_features = df.select_dtypes(include=[np.number]).columns.tolist()\n",
        "categorical_features = df.select_dtypes(include=['object']).columns.tolist()\n",
        "\n",
        "# Display Missing Values\n",
        "print(\"\\n⚠️ Missing Values Before Handling:\")\n",
        "print(df.isnull().sum())"
      ],
      "metadata": {
        "colab": {
          "base_uri": "https://localhost:8080/"
        },
        "id": "acvDmY6oqntz",
        "outputId": "c97b1fb6-a0e7-4bb5-e8a0-85857de14f2d"
      },
      "execution_count": 6,
      "outputs": [
        {
          "output_type": "stream",
          "name": "stdout",
          "text": [
            "\n",
            "⚠️ Missing Values Before Handling:\n",
            "match_id                        0\n",
            "season                          0\n",
            "start_date                      0\n",
            "venue                           0\n",
            "innings                         0\n",
            "ball                            0\n",
            "batting_team                    0\n",
            "bowling_team                    0\n",
            "striker                         0\n",
            "non_striker                     0\n",
            "bowler                          0\n",
            "runs_off_bat                    0\n",
            "extras                          0\n",
            "wides                     1236113\n",
            "noballs                   1260045\n",
            "byes                      1263141\n",
            "legbyes                   1252200\n",
            "penalty                   1265085\n",
            "wicket_type               1230629\n",
            "player_dismissed          1230629\n",
            "other_wicket_type         1265103\n",
            "other_player_dismissed    1265103\n",
            "cricsheet_id                    0\n",
            "dtype: int64\n"
          ]
        }
      ]
    },
    {
      "cell_type": "markdown",
      "source": [
        "**2. Convert Categorical Features to Numerical (One-Hot Encoding or Label Encoding)**"
      ],
      "metadata": {
        "id": "acml3_NlwkKc"
      }
    },
    {
      "cell_type": "code",
      "source": [
        "# Identify categorical features\n",
        "categorical_features = df.select_dtypes(include=['object']).columns.tolist()\n",
        "\n",
        "# One-Hot Encoding (for Nominal Data)\n",
        "one_hot_df = pd.get_dummies(df[categorical_features], drop_first=True)\n",
        "print(\"\\n One-Hot Encoding Completed!\")\n",
        "\n",
        "# Label Encoding (for Ordinal Data - Example Only)\n",
        "label_encoder = LabelEncoder()\n",
        "\n",
        "# Example: Label Encoding on a single column\n",
        "# df['category_column'] = label_encoder.fit_transform(df['category_column'])\n",
        "\n",
        "# Drop original categorical columns and merge One-Hot encoded data\n",
        "df.drop(columns=categorical_features, inplace=True)\n",
        "df = pd.concat([df, one_hot_df], axis=1)\n",
        "\n",
        "print(\"\\n Categorical Features Converted to Numerical!\")\n",
        "print(df.head())"
      ],
      "metadata": {
        "colab": {
          "base_uri": "https://localhost:8080/",
          "height": 211
        },
        "id": "go5-UmKTuypV",
        "outputId": "472bbb3b-4f3a-48fc-f0e2-c9625f22253d"
      },
      "execution_count": 1,
      "outputs": [
        {
          "output_type": "error",
          "ename": "NameError",
          "evalue": "name 'df' is not defined",
          "traceback": [
            "\u001b[0;31m---------------------------------------------------------------------------\u001b[0m",
            "\u001b[0;31mNameError\u001b[0m                                 Traceback (most recent call last)",
            "\u001b[0;32m<ipython-input-1-d9f5ea57fddf>\u001b[0m in \u001b[0;36m<cell line: 0>\u001b[0;34m()\u001b[0m\n\u001b[1;32m      1\u001b[0m \u001b[0;31m# Identify categorical features\u001b[0m\u001b[0;34m\u001b[0m\u001b[0;34m\u001b[0m\u001b[0m\n\u001b[0;32m----> 2\u001b[0;31m \u001b[0mcategorical_features\u001b[0m \u001b[0;34m=\u001b[0m \u001b[0mdf\u001b[0m\u001b[0;34m.\u001b[0m\u001b[0mselect_dtypes\u001b[0m\u001b[0;34m(\u001b[0m\u001b[0minclude\u001b[0m\u001b[0;34m=\u001b[0m\u001b[0;34m[\u001b[0m\u001b[0;34m'object'\u001b[0m\u001b[0;34m]\u001b[0m\u001b[0;34m)\u001b[0m\u001b[0;34m.\u001b[0m\u001b[0mcolumns\u001b[0m\u001b[0;34m.\u001b[0m\u001b[0mtolist\u001b[0m\u001b[0;34m(\u001b[0m\u001b[0;34m)\u001b[0m\u001b[0;34m\u001b[0m\u001b[0;34m\u001b[0m\u001b[0m\n\u001b[0m\u001b[1;32m      3\u001b[0m \u001b[0;34m\u001b[0m\u001b[0m\n\u001b[1;32m      4\u001b[0m \u001b[0;31m# One-Hot Encoding (for Nominal Data)\u001b[0m\u001b[0;34m\u001b[0m\u001b[0;34m\u001b[0m\u001b[0m\n\u001b[1;32m      5\u001b[0m \u001b[0mone_hot_df\u001b[0m \u001b[0;34m=\u001b[0m \u001b[0mpd\u001b[0m\u001b[0;34m.\u001b[0m\u001b[0mget_dummies\u001b[0m\u001b[0;34m(\u001b[0m\u001b[0mdf\u001b[0m\u001b[0;34m[\u001b[0m\u001b[0mcategorical_features\u001b[0m\u001b[0;34m]\u001b[0m\u001b[0;34m,\u001b[0m \u001b[0mdrop_first\u001b[0m\u001b[0;34m=\u001b[0m\u001b[0;32mTrue\u001b[0m\u001b[0;34m)\u001b[0m\u001b[0;34m\u001b[0m\u001b[0;34m\u001b[0m\u001b[0m\n",
            "\u001b[0;31mNameError\u001b[0m: name 'df' is not defined"
          ]
        }
      ]
    },
    {
      "cell_type": "markdown",
      "source": [
        "**3. Scale Numerical Features (MinMax Scaling or Standardization)**"
      ],
      "metadata": {
        "id": "F3WbdyRcw529"
      }
    },
    {
      "cell_type": "code",
      "source": [
        "# Identify numerical features\n",
        "numeric_features = df.select_dtypes(include=[np.number]).columns.tolist()\n",
        "\n",
        "# OPTION 1: MinMax Scaling (Scales values between 0 and 1)\n",
        "minmax_scaler = MinMaxScaler()\n",
        "df[numeric_features] = minmax_scaler.fit_transform(df[numeric_features])\n",
        "print(\"\\n MinMax Scaling Completed!\")\n",
        "\n",
        "#  OPTION 2: Standardization (Z-score normalization)\n",
        "# standard_scaler = StandardScaler()\n",
        "# df[numeric_features] = standard_scaler.fit_transform(df[numeric_features])\n",
        "# print(\"\\n Standardization Completed!\")\n",
        "\n",
        "print(\"\\n Scaled Numerical Features:\")\n",
        "print(df[numeric_features].head())"
      ],
      "metadata": {
        "colab": {
          "base_uri": "https://localhost:8080/",
          "height": 211
        },
        "id": "stsKkOA1wGRL",
        "outputId": "a124775c-3b77-4866-91ef-5ad1df26e1d0"
      },
      "execution_count": 2,
      "outputs": [
        {
          "output_type": "error",
          "ename": "NameError",
          "evalue": "name 'df' is not defined",
          "traceback": [
            "\u001b[0;31m---------------------------------------------------------------------------\u001b[0m",
            "\u001b[0;31mNameError\u001b[0m                                 Traceback (most recent call last)",
            "\u001b[0;32m<ipython-input-2-6175fcab1793>\u001b[0m in \u001b[0;36m<cell line: 0>\u001b[0;34m()\u001b[0m\n\u001b[1;32m      1\u001b[0m \u001b[0;31m# Identify numerical features\u001b[0m\u001b[0;34m\u001b[0m\u001b[0;34m\u001b[0m\u001b[0m\n\u001b[0;32m----> 2\u001b[0;31m \u001b[0mnumeric_features\u001b[0m \u001b[0;34m=\u001b[0m \u001b[0mdf\u001b[0m\u001b[0;34m.\u001b[0m\u001b[0mselect_dtypes\u001b[0m\u001b[0;34m(\u001b[0m\u001b[0minclude\u001b[0m\u001b[0;34m=\u001b[0m\u001b[0;34m[\u001b[0m\u001b[0mnp\u001b[0m\u001b[0;34m.\u001b[0m\u001b[0mnumber\u001b[0m\u001b[0;34m]\u001b[0m\u001b[0;34m)\u001b[0m\u001b[0;34m.\u001b[0m\u001b[0mcolumns\u001b[0m\u001b[0;34m.\u001b[0m\u001b[0mtolist\u001b[0m\u001b[0;34m(\u001b[0m\u001b[0;34m)\u001b[0m\u001b[0;34m\u001b[0m\u001b[0;34m\u001b[0m\u001b[0m\n\u001b[0m\u001b[1;32m      3\u001b[0m \u001b[0;34m\u001b[0m\u001b[0m\n\u001b[1;32m      4\u001b[0m \u001b[0;31m# 🟡 OPTION 1: MinMax Scaling (Scales values between 0 and 1)\u001b[0m\u001b[0;34m\u001b[0m\u001b[0;34m\u001b[0m\u001b[0m\n\u001b[1;32m      5\u001b[0m \u001b[0mminmax_scaler\u001b[0m \u001b[0;34m=\u001b[0m \u001b[0mMinMaxScaler\u001b[0m\u001b[0;34m(\u001b[0m\u001b[0;34m)\u001b[0m\u001b[0;34m\u001b[0m\u001b[0;34m\u001b[0m\u001b[0m\n",
            "\u001b[0;31mNameError\u001b[0m: name 'df' is not defined"
          ]
        }
      ]
    },
    {
      "cell_type": "markdown",
      "source": [
        "**4. Create New Features (Feature Engineering)**"
      ],
      "metadata": {
        "id": "R0Iems2YxDj-"
      }
    },
    {
      "cell_type": "code",
      "source": [
        "#  Example 1: Create 'runs_per_ball' if applicable\n",
        "if 'runs_off_bat' in df.columns and 'ball' in df.columns:\n",
        "    df['runs_per_ball'] = df['runs_off_bat'] / df['ball'].replace(0, np.nan)\n",
        "    print(\"\\n New Feature Created: 'runs_per_ball'\")\n",
        "\n",
        "#  Example 2: Create 'strike_rate' (runs per 100 balls)\n",
        "if 'runs_off_bat' in df.columns and 'ball' in df.columns:\n",
        "    df['strike_rate'] = (df['runs_off_bat'] / df['ball'].replace(0, np.nan)) * 100\n",
        "    print(\"\\n New Feature Created: 'strike_rate'\")\n",
        "\n",
        "# Show the first few rows with new features\n",
        "print(\"\\nDataset with New Features:\")\n",
        "print(df.head())"
      ],
      "metadata": {
        "id": "2NbOOz5FxKso"
      },
      "execution_count": null,
      "outputs": []
    },
    {
      "cell_type": "markdown",
      "source": [
        "**5. Save the Preprocessed Dataset**"
      ],
      "metadata": {
        "id": "UM73nvHpxZaP"
      }
    },
    {
      "cell_type": "code",
      "source": [
        "# Save the final preprocessed dataset to CSV\n",
        "df.to_csv('preprocessed_data.csv', index=False)\n",
        "print(\"\\n Preprocessed Data Saved as 'preprocessed_data.csv'\")\n"
      ],
      "metadata": {
        "id": "8a4O9wq1xdK_"
      },
      "execution_count": null,
      "outputs": []
    }
  ]
}